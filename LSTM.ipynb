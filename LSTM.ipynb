{
  "nbformat": 4,
  "nbformat_minor": 0,
  "metadata": {
    "colab": {
      "name": "LSTM",
      "provenance": [],
      "collapsed_sections": [],
      "toc_visible": true
    },
    "kernelspec": {
      "name": "python3",
      "display_name": "Python 3"
    },
    "language_info": {
      "name": "python"
    }
  },
  "cells": [
    {
      "cell_type": "code",
      "execution_count": 49,
      "metadata": {
        "id": "lFXcdXbm0Pnw"
      },
      "outputs": [],
      "source": [
        "#imported neccesay libraries\n",
        "import pandas as pd \n",
        "import numpy as np\n",
        "import matplotlib.pyplot as plt\n",
        "import seaborn as sns\n",
        "import scipy.stats as stats\n",
        "import statsmodels.graphics.tsaplots as snt\n",
        "from sklearn.preprocessing import MinMaxScaler, StandardScaler\n",
        "from sklearn.metrics import mean_absolute_error, mean_squared_error\n",
        "import math  \n",
        "\n",
        "import datetime as dt\n",
        "from datetime import datetime\n",
        "\n",
        "from keras.callbacks import EarlyStopping, ReduceLROnPlateau, ModelCheckpoint, TensorBoard\n",
        "\n",
        "%matplotlib inline"
      ]
    },
    {
      "cell_type": "code",
      "source": [
        "#imported dataset\n",
        "data = pd.read_csv('/content/bicoin_data.csv', index_col=['datetime'])\n",
        "data = data.drop('Unnamed: 0', axis=1) #removed unusqal column\n",
        "data.head()"
      ],
      "metadata": {
        "colab": {
          "base_uri": "https://localhost:8080/",
          "height": 238
        },
        "id": "WlpOGU-p3bLb",
        "outputId": "c79ecb88-ec2d-43ec-c7cf-d7396cd16a07"
      },
      "execution_count": 50,
      "outputs": [
        {
          "output_type": "execute_result",
          "data": {
            "text/html": [
              "\n",
              "  <div id=\"df-c6a03e9b-d156-4d36-a4e9-d27fc9411519\">\n",
              "    <div class=\"colab-df-container\">\n",
              "      <div>\n",
              "<style scoped>\n",
              "    .dataframe tbody tr th:only-of-type {\n",
              "        vertical-align: middle;\n",
              "    }\n",
              "\n",
              "    .dataframe tbody tr th {\n",
              "        vertical-align: top;\n",
              "    }\n",
              "\n",
              "    .dataframe thead th {\n",
              "        text-align: right;\n",
              "    }\n",
              "</style>\n",
              "<table border=\"1\" class=\"dataframe\">\n",
              "  <thead>\n",
              "    <tr style=\"text-align: right;\">\n",
              "      <th></th>\n",
              "      <th>open</th>\n",
              "      <th>high</th>\n",
              "      <th>low</th>\n",
              "      <th>close</th>\n",
              "    </tr>\n",
              "    <tr>\n",
              "      <th>datetime</th>\n",
              "      <th></th>\n",
              "      <th></th>\n",
              "      <th></th>\n",
              "      <th></th>\n",
              "    </tr>\n",
              "  </thead>\n",
              "  <tbody>\n",
              "    <tr>\n",
              "      <th>2021-10-02 14:40:00</th>\n",
              "      <td>47893.92969</td>\n",
              "      <td>47981.64062</td>\n",
              "      <td>47889.07812</td>\n",
              "      <td>47981.64062</td>\n",
              "    </tr>\n",
              "    <tr>\n",
              "      <th>2021-10-02 14:45:00</th>\n",
              "      <td>47926.17188</td>\n",
              "      <td>47959.01172</td>\n",
              "      <td>47898.03125</td>\n",
              "      <td>47942.94141</td>\n",
              "    </tr>\n",
              "    <tr>\n",
              "      <th>2021-10-02 14:50:00</th>\n",
              "      <td>47956.17969</td>\n",
              "      <td>48095.00000</td>\n",
              "      <td>47950.66016</td>\n",
              "      <td>48095.00000</td>\n",
              "    </tr>\n",
              "    <tr>\n",
              "      <th>2021-10-02 14:55:00</th>\n",
              "      <td>48060.30859</td>\n",
              "      <td>48100.98828</td>\n",
              "      <td>48006.01172</td>\n",
              "      <td>48011.07812</td>\n",
              "    </tr>\n",
              "    <tr>\n",
              "      <th>2021-10-02 15:00:00</th>\n",
              "      <td>47966.01172</td>\n",
              "      <td>48015.01953</td>\n",
              "      <td>47952.35938</td>\n",
              "      <td>47957.01172</td>\n",
              "    </tr>\n",
              "  </tbody>\n",
              "</table>\n",
              "</div>\n",
              "      <button class=\"colab-df-convert\" onclick=\"convertToInteractive('df-c6a03e9b-d156-4d36-a4e9-d27fc9411519')\"\n",
              "              title=\"Convert this dataframe to an interactive table.\"\n",
              "              style=\"display:none;\">\n",
              "        \n",
              "  <svg xmlns=\"http://www.w3.org/2000/svg\" height=\"24px\"viewBox=\"0 0 24 24\"\n",
              "       width=\"24px\">\n",
              "    <path d=\"M0 0h24v24H0V0z\" fill=\"none\"/>\n",
              "    <path d=\"M18.56 5.44l.94 2.06.94-2.06 2.06-.94-2.06-.94-.94-2.06-.94 2.06-2.06.94zm-11 1L8.5 8.5l.94-2.06 2.06-.94-2.06-.94L8.5 2.5l-.94 2.06-2.06.94zm10 10l.94 2.06.94-2.06 2.06-.94-2.06-.94-.94-2.06-.94 2.06-2.06.94z\"/><path d=\"M17.41 7.96l-1.37-1.37c-.4-.4-.92-.59-1.43-.59-.52 0-1.04.2-1.43.59L10.3 9.45l-7.72 7.72c-.78.78-.78 2.05 0 2.83L4 21.41c.39.39.9.59 1.41.59.51 0 1.02-.2 1.41-.59l7.78-7.78 2.81-2.81c.8-.78.8-2.07 0-2.86zM5.41 20L4 18.59l7.72-7.72 1.47 1.35L5.41 20z\"/>\n",
              "  </svg>\n",
              "      </button>\n",
              "      \n",
              "  <style>\n",
              "    .colab-df-container {\n",
              "      display:flex;\n",
              "      flex-wrap:wrap;\n",
              "      gap: 12px;\n",
              "    }\n",
              "\n",
              "    .colab-df-convert {\n",
              "      background-color: #E8F0FE;\n",
              "      border: none;\n",
              "      border-radius: 50%;\n",
              "      cursor: pointer;\n",
              "      display: none;\n",
              "      fill: #1967D2;\n",
              "      height: 32px;\n",
              "      padding: 0 0 0 0;\n",
              "      width: 32px;\n",
              "    }\n",
              "\n",
              "    .colab-df-convert:hover {\n",
              "      background-color: #E2EBFA;\n",
              "      box-shadow: 0px 1px 2px rgba(60, 64, 67, 0.3), 0px 1px 3px 1px rgba(60, 64, 67, 0.15);\n",
              "      fill: #174EA6;\n",
              "    }\n",
              "\n",
              "    [theme=dark] .colab-df-convert {\n",
              "      background-color: #3B4455;\n",
              "      fill: #D2E3FC;\n",
              "    }\n",
              "\n",
              "    [theme=dark] .colab-df-convert:hover {\n",
              "      background-color: #434B5C;\n",
              "      box-shadow: 0px 1px 3px 1px rgba(0, 0, 0, 0.15);\n",
              "      filter: drop-shadow(0px 1px 2px rgba(0, 0, 0, 0.3));\n",
              "      fill: #FFFFFF;\n",
              "    }\n",
              "  </style>\n",
              "\n",
              "      <script>\n",
              "        const buttonEl =\n",
              "          document.querySelector('#df-c6a03e9b-d156-4d36-a4e9-d27fc9411519 button.colab-df-convert');\n",
              "        buttonEl.style.display =\n",
              "          google.colab.kernel.accessAllowed ? 'block' : 'none';\n",
              "\n",
              "        async function convertToInteractive(key) {\n",
              "          const element = document.querySelector('#df-c6a03e9b-d156-4d36-a4e9-d27fc9411519');\n",
              "          const dataTable =\n",
              "            await google.colab.kernel.invokeFunction('convertToInteractive',\n",
              "                                                     [key], {});\n",
              "          if (!dataTable) return;\n",
              "\n",
              "          const docLinkHtml = 'Like what you see? Visit the ' +\n",
              "            '<a target=\"_blank\" href=https://colab.research.google.com/notebooks/data_table.ipynb>data table notebook</a>'\n",
              "            + ' to learn more about interactive tables.';\n",
              "          element.innerHTML = '';\n",
              "          dataTable['output_type'] = 'display_data';\n",
              "          await google.colab.output.renderOutput(dataTable, element);\n",
              "          const docLink = document.createElement('div');\n",
              "          docLink.innerHTML = docLinkHtml;\n",
              "          element.appendChild(docLink);\n",
              "        }\n",
              "      </script>\n",
              "    </div>\n",
              "  </div>\n",
              "  "
            ],
            "text/plain": [
              "                            open         high          low        close\n",
              "datetime                                                               \n",
              "2021-10-02 14:40:00  47893.92969  47981.64062  47889.07812  47981.64062\n",
              "2021-10-02 14:45:00  47926.17188  47959.01172  47898.03125  47942.94141\n",
              "2021-10-02 14:50:00  47956.17969  48095.00000  47950.66016  48095.00000\n",
              "2021-10-02 14:55:00  48060.30859  48100.98828  48006.01172  48011.07812\n",
              "2021-10-02 15:00:00  47966.01172  48015.01953  47952.35938  47957.01172"
            ]
          },
          "metadata": {},
          "execution_count": 50
        }
      ]
    },
    {
      "cell_type": "code",
      "source": [
        "data.shape  #shape"
      ],
      "metadata": {
        "colab": {
          "base_uri": "https://localhost:8080/"
        },
        "id": "0Tkpah0T-mW9",
        "outputId": "311a066b-9282-4b6c-b07a-1b97440f9612"
      },
      "execution_count": 51,
      "outputs": [
        {
          "output_type": "execute_result",
          "data": {
            "text/plain": [
              "(5000, 4)"
            ]
          },
          "metadata": {},
          "execution_count": 51
        }
      ]
    },
    {
      "cell_type": "code",
      "source": [
        "scaler=MinMaxScaler()\n",
        "scaled_data=scaler.fit_transform(data['close'].values.reshape(-1,1)) #willl be changed into 2 dimension within the range of (0,1)\n",
        "scaled_data"
      ],
      "metadata": {
        "colab": {
          "base_uri": "https://localhost:8080/"
        },
        "id": "ML5ui2kR4CQE",
        "outputId": "8daafa42-71c7-4620-ff3f-70611ac61bd0"
      },
      "execution_count": 52,
      "outputs": [
        {
          "output_type": "execute_result",
          "data": {
            "text/plain": [
              "array([[0.05468166],\n",
              "       [0.05245565],\n",
              "       [0.06120219],\n",
              "       ...,\n",
              "       [0.98960243],\n",
              "       [0.99192057],\n",
              "       [0.99045221]])"
            ]
          },
          "metadata": {},
          "execution_count": 52
        }
      ]
    },
    {
      "cell_type": "code",
      "source": [
        "time_intervals_to_train = 24   # as we have taken 5 min interval then 12*2=24 interval for 2hrs\n",
        "prediction_interval=12  # we have to predict for next 1 hr----> 12*1=12 \n",
        "\n",
        "x_train=[]\n",
        "y_train=[]"
      ],
      "metadata": {
        "id": "qEZlJaHz7yud"
      },
      "execution_count": 53,
      "outputs": []
    },
    {
      "cell_type": "code",
      "source": [
        "#i will train data for 24 interval and i will predict data after 12 interval------> predict 36th from 1 to 24 index data\n",
        "for i in range(time_intervals_to_train,len(scaled_data)-prediction_interval):\n",
        "  x_train.append(scaled_data[i - time_intervals_to_train: i,0])\n",
        "  y_train.append(scaled_data[i + prediction_interval,0])\n",
        "\n",
        "x_train=np.array(x_train)\n",
        "y_train=np.array(y_train)"
      ],
      "metadata": {
        "id": "_pmjpW-879gz"
      },
      "execution_count": 54,
      "outputs": []
    },
    {
      "cell_type": "code",
      "source": [
        "x_train"
      ],
      "metadata": {
        "colab": {
          "base_uri": "https://localhost:8080/"
        },
        "id": "4S5jUPct9KX_",
        "outputId": "5093e74c-e48c-4396-aff4-7b3d21e1c531"
      },
      "execution_count": 55,
      "outputs": [
        {
          "output_type": "execute_result",
          "data": {
            "text/plain": [
              "array([[0.05468166, 0.05245565, 0.06120219, ..., 0.04183721, 0.05297603,\n",
              "        0.05176292],\n",
              "       [0.05245565, 0.06120219, 0.05637493, ..., 0.05297603, 0.05176292,\n",
              "        0.05326543],\n",
              "       [0.06120219, 0.05637493, 0.05326498, ..., 0.05176292, 0.05326543,\n",
              "        0.0533225 ],\n",
              "       ...,\n",
              "       [0.9875755 , 0.98127292, 0.97623647, ..., 0.97492023, 0.97239696,\n",
              "        0.97239404],\n",
              "       [0.98127292, 0.97623647, 0.98125337, ..., 0.97239696, 0.97239404,\n",
              "        0.97191881],\n",
              "       [0.97623647, 0.98125337, 0.97339076, ..., 0.97239404, 0.97191881,\n",
              "        0.98182274]])"
            ]
          },
          "metadata": {},
          "execution_count": 55
        }
      ]
    },
    {
      "cell_type": "code",
      "source": [
        "y_train"
      ],
      "metadata": {
        "colab": {
          "base_uri": "https://localhost:8080/"
        },
        "id": "_qlRsmpo9RcE",
        "outputId": "0c2ea7aa-205a-4974-ae6c-1f8ff17d7952"
      },
      "execution_count": 56,
      "outputs": [
        {
          "output_type": "execute_result",
          "data": {
            "text/plain": [
              "array([0.04595983, 0.0487287 , 0.04836178, ..., 0.98960243, 0.99192057,\n",
              "       0.99045221])"
            ]
          },
          "metadata": {},
          "execution_count": 56
        }
      ]
    },
    {
      "cell_type": "code",
      "source": [
        "print(x_train.shape)\n",
        "print(y_train.shape)"
      ],
      "metadata": {
        "colab": {
          "base_uri": "https://localhost:8080/"
        },
        "id": "PavabRAE9VwY",
        "outputId": "2a7e5f00-690e-4eeb-b291-078ba6378f3d"
      },
      "execution_count": 57,
      "outputs": [
        {
          "output_type": "stream",
          "name": "stdout",
          "text": [
            "(4964, 24)\n",
            "(4964,)\n"
          ]
        }
      ]
    },
    {
      "cell_type": "markdown",
      "source": [
        "Create The LSTM model"
      ],
      "metadata": {
        "id": "Ndw_FhwGA3Cj"
      }
    },
    {
      "cell_type": "code",
      "source": [
        "# Import Libraries and packages from Keras\n",
        "from keras.models import Sequential\n",
        "from keras.layers import Dense\n",
        "from keras.layers import LSTM\n",
        "from keras.layers import Dropout\n"
      ],
      "metadata": {
        "id": "7FbxvhZc-h0e"
      },
      "execution_count": 58,
      "outputs": []
    },
    {
      "cell_type": "code",
      "source": [
        "#we have added LSTM layers\n",
        "model= Sequential()  #sequencial model\n",
        "model.add(LSTM(128, return_sequences=True, input_shape=(x_train.shape[1],1),activation='relu')) #add lstm layer\n",
        "model.add(Dropout(0.3))                                                                         #add dropout layer\n",
        "model.add(LSTM(64, return_sequences=True, activation= 'relu'))                                  #add lstm layer\n",
        "model.add(Dropout(0.2))                                                                         #add dropout layer     \n",
        "model.add(LSTM(32, activation='relu'))                                                          #LSTM layer\n",
        "model.add(Dropout(0.2))                                                                         #dropout layer\n",
        "model.add(Dense(1,activation='sigmoid'))                                                        #final layer with one unit"
      ],
      "metadata": {
        "id": "Bvz24okbCrW5"
      },
      "execution_count": 59,
      "outputs": []
    },
    {
      "cell_type": "code",
      "source": [
        "model.compile(loss='mean_squared_error',optimizer='adam',metrics=['accuracy'])                  #model comilations"
      ],
      "metadata": {
        "id": "VTbwSoeYDGHt"
      },
      "execution_count": 60,
      "outputs": []
    },
    {
      "cell_type": "code",
      "source": [
        "%%time\n",
        "es = EarlyStopping(monitor='val_loss', min_delta=1e-10, patience=10, verbose=1)               #early stopping criteria\n",
        "rlr = ReduceLROnPlateau(monitor='val_loss', factor=0.5, patience=10, verbose=1)               \n",
        "mcp = ModelCheckpoint(filepath='weights.h5', monitor='val_loss', verbose=1, save_best_only=True, save_weights_only=True)\n",
        "\n",
        "tb = TensorBoard('logs')\n",
        "\n",
        "history = model.fit(x_train, y_train, shuffle=False, epochs=100, callbacks=[es, rlr, mcp, tb], validation_split=0.2, verbose=1, batch_size=256)"
      ],
      "metadata": {
        "colab": {
          "base_uri": "https://localhost:8080/"
        },
        "id": "ziRqAfPEDLuM",
        "outputId": "31721918-c5b3-4d54-ad12-fad5c4ade0d7"
      },
      "execution_count": 61,
      "outputs": [
        {
          "output_type": "stream",
          "name": "stdout",
          "text": [
            "Epoch 1/100\n",
            "16/16 [==============================] - ETA: 0s - loss: 0.0601 - accuracy: 2.5183e-04\n",
            "Epoch 1: val_loss improved from inf to 0.14696, saving model to weights.h5\n",
            "16/16 [==============================] - 8s 268ms/step - loss: 0.0601 - accuracy: 2.5183e-04 - val_loss: 0.1470 - val_accuracy: 0.0000e+00 - lr: 0.0010\n",
            "Epoch 2/100\n",
            "16/16 [==============================] - ETA: 0s - loss: 0.0529 - accuracy: 2.5183e-04\n",
            "Epoch 2: val_loss improved from 0.14696 to 0.13128, saving model to weights.h5\n",
            "16/16 [==============================] - 4s 236ms/step - loss: 0.0529 - accuracy: 2.5183e-04 - val_loss: 0.1313 - val_accuracy: 0.0000e+00 - lr: 0.0010\n",
            "Epoch 3/100\n",
            "16/16 [==============================] - ETA: 0s - loss: 0.0525 - accuracy: 2.5183e-04\n",
            "Epoch 3: val_loss improved from 0.13128 to 0.12931, saving model to weights.h5\n",
            "16/16 [==============================] - 4s 236ms/step - loss: 0.0525 - accuracy: 2.5183e-04 - val_loss: 0.1293 - val_accuracy: 0.0000e+00 - lr: 0.0010\n",
            "Epoch 4/100\n",
            "16/16 [==============================] - ETA: 0s - loss: 0.0489 - accuracy: 2.5183e-04\n",
            "Epoch 4: val_loss improved from 0.12931 to 0.11510, saving model to weights.h5\n",
            "16/16 [==============================] - 4s 236ms/step - loss: 0.0489 - accuracy: 2.5183e-04 - val_loss: 0.1151 - val_accuracy: 0.0010 - lr: 0.0010\n",
            "Epoch 5/100\n",
            "16/16 [==============================] - ETA: 0s - loss: 0.0368 - accuracy: 2.5183e-04\n",
            "Epoch 5: val_loss improved from 0.11510 to 0.05054, saving model to weights.h5\n",
            "16/16 [==============================] - 4s 234ms/step - loss: 0.0368 - accuracy: 2.5183e-04 - val_loss: 0.0505 - val_accuracy: 0.0010 - lr: 0.0010\n",
            "Epoch 6/100\n",
            "16/16 [==============================] - ETA: 0s - loss: 0.0203 - accuracy: 2.5183e-04\n",
            "Epoch 6: val_loss did not improve from 0.05054\n",
            "16/16 [==============================] - 4s 233ms/step - loss: 0.0203 - accuracy: 2.5183e-04 - val_loss: 0.0667 - val_accuracy: 0.0010 - lr: 0.0010\n",
            "Epoch 7/100\n",
            "16/16 [==============================] - ETA: 0s - loss: 0.0107 - accuracy: 2.5183e-04\n",
            "Epoch 7: val_loss improved from 0.05054 to 0.03928, saving model to weights.h5\n",
            "16/16 [==============================] - 4s 239ms/step - loss: 0.0107 - accuracy: 2.5183e-04 - val_loss: 0.0393 - val_accuracy: 0.0010 - lr: 0.0010\n",
            "Epoch 8/100\n",
            "16/16 [==============================] - ETA: 0s - loss: 0.0145 - accuracy: 2.5183e-04\n",
            "Epoch 8: val_loss improved from 0.03928 to 0.03356, saving model to weights.h5\n",
            "16/16 [==============================] - 4s 237ms/step - loss: 0.0145 - accuracy: 2.5183e-04 - val_loss: 0.0336 - val_accuracy: 0.0010 - lr: 0.0010\n",
            "Epoch 9/100\n",
            "16/16 [==============================] - ETA: 0s - loss: 0.0121 - accuracy: 2.5183e-04\n",
            "Epoch 9: val_loss improved from 0.03356 to 0.00251, saving model to weights.h5\n",
            "16/16 [==============================] - 4s 235ms/step - loss: 0.0121 - accuracy: 2.5183e-04 - val_loss: 0.0025 - val_accuracy: 0.0010 - lr: 0.0010\n",
            "Epoch 10/100\n",
            "16/16 [==============================] - ETA: 0s - loss: 0.0117 - accuracy: 2.5183e-04\n",
            "Epoch 10: val_loss improved from 0.00251 to 0.00175, saving model to weights.h5\n",
            "16/16 [==============================] - 4s 233ms/step - loss: 0.0117 - accuracy: 2.5183e-04 - val_loss: 0.0017 - val_accuracy: 0.0010 - lr: 0.0010\n",
            "Epoch 11/100\n",
            "16/16 [==============================] - ETA: 0s - loss: 0.0057 - accuracy: 2.5183e-04\n",
            "Epoch 11: val_loss did not improve from 0.00175\n",
            "16/16 [==============================] - 4s 232ms/step - loss: 0.0057 - accuracy: 2.5183e-04 - val_loss: 0.0027 - val_accuracy: 0.0010 - lr: 0.0010\n",
            "Epoch 12/100\n",
            "16/16 [==============================] - ETA: 0s - loss: 0.0123 - accuracy: 2.5183e-04\n",
            "Epoch 12: val_loss did not improve from 0.00175\n",
            "16/16 [==============================] - 4s 234ms/step - loss: 0.0123 - accuracy: 2.5183e-04 - val_loss: 0.0583 - val_accuracy: 0.0010 - lr: 0.0010\n",
            "Epoch 13/100\n",
            "16/16 [==============================] - ETA: 0s - loss: 0.0038 - accuracy: 2.5183e-04\n",
            "Epoch 13: val_loss improved from 0.00175 to 0.00151, saving model to weights.h5\n",
            "16/16 [==============================] - 4s 234ms/step - loss: 0.0038 - accuracy: 2.5183e-04 - val_loss: 0.0015 - val_accuracy: 0.0010 - lr: 0.0010\n",
            "Epoch 14/100\n",
            "16/16 [==============================] - ETA: 0s - loss: 0.0066 - accuracy: 2.5183e-04\n",
            "Epoch 14: val_loss did not improve from 0.00151\n",
            "16/16 [==============================] - 4s 235ms/step - loss: 0.0066 - accuracy: 2.5183e-04 - val_loss: 0.0223 - val_accuracy: 0.0010 - lr: 0.0010\n",
            "Epoch 15/100\n",
            "16/16 [==============================] - ETA: 0s - loss: 0.0048 - accuracy: 2.5183e-04\n",
            "Epoch 15: val_loss did not improve from 0.00151\n",
            "16/16 [==============================] - 4s 236ms/step - loss: 0.0048 - accuracy: 2.5183e-04 - val_loss: 0.0018 - val_accuracy: 0.0010 - lr: 0.0010\n",
            "Epoch 16/100\n",
            "16/16 [==============================] - ETA: 0s - loss: 0.0095 - accuracy: 2.5183e-04\n",
            "Epoch 16: val_loss did not improve from 0.00151\n",
            "16/16 [==============================] - 4s 237ms/step - loss: 0.0095 - accuracy: 2.5183e-04 - val_loss: 0.0319 - val_accuracy: 0.0010 - lr: 0.0010\n",
            "Epoch 17/100\n",
            "16/16 [==============================] - ETA: 0s - loss: 0.0083 - accuracy: 2.5183e-04\n",
            "Epoch 17: val_loss did not improve from 0.00151\n",
            "16/16 [==============================] - 4s 235ms/step - loss: 0.0083 - accuracy: 2.5183e-04 - val_loss: 0.0016 - val_accuracy: 0.0010 - lr: 0.0010\n",
            "Epoch 18/100\n",
            "16/16 [==============================] - ETA: 0s - loss: 0.0110 - accuracy: 2.5183e-04\n",
            "Epoch 18: val_loss improved from 0.00151 to 0.00113, saving model to weights.h5\n",
            "16/16 [==============================] - 4s 238ms/step - loss: 0.0110 - accuracy: 2.5183e-04 - val_loss: 0.0011 - val_accuracy: 0.0010 - lr: 0.0010\n",
            "Epoch 19/100\n",
            "16/16 [==============================] - ETA: 0s - loss: 0.0091 - accuracy: 2.5183e-04\n",
            "Epoch 19: val_loss did not improve from 0.00113\n",
            "16/16 [==============================] - 4s 234ms/step - loss: 0.0091 - accuracy: 2.5183e-04 - val_loss: 0.0032 - val_accuracy: 0.0010 - lr: 0.0010\n",
            "Epoch 20/100\n",
            "16/16 [==============================] - ETA: 0s - loss: 0.0066 - accuracy: 2.5183e-04\n",
            "Epoch 20: val_loss did not improve from 0.00113\n",
            "16/16 [==============================] - 4s 237ms/step - loss: 0.0066 - accuracy: 2.5183e-04 - val_loss: 0.0024 - val_accuracy: 0.0010 - lr: 0.0010\n",
            "Epoch 21/100\n",
            "16/16 [==============================] - ETA: 0s - loss: 0.0065 - accuracy: 2.5183e-04\n",
            "Epoch 21: val_loss did not improve from 0.00113\n",
            "16/16 [==============================] - 4s 238ms/step - loss: 0.0065 - accuracy: 2.5183e-04 - val_loss: 0.0029 - val_accuracy: 0.0010 - lr: 0.0010\n",
            "Epoch 22/100\n",
            "16/16 [==============================] - ETA: 0s - loss: 0.0129 - accuracy: 2.5183e-04\n",
            "Epoch 22: val_loss did not improve from 0.00113\n",
            "16/16 [==============================] - 4s 235ms/step - loss: 0.0129 - accuracy: 2.5183e-04 - val_loss: 0.0830 - val_accuracy: 0.0010 - lr: 0.0010\n",
            "Epoch 23/100\n",
            "16/16 [==============================] - ETA: 0s - loss: 0.0044 - accuracy: 2.5183e-04\n",
            "Epoch 23: val_loss did not improve from 0.00113\n",
            "16/16 [==============================] - 4s 235ms/step - loss: 0.0044 - accuracy: 2.5183e-04 - val_loss: 0.0016 - val_accuracy: 0.0010 - lr: 0.0010\n",
            "Epoch 24/100\n",
            "16/16 [==============================] - ETA: 0s - loss: 0.0089 - accuracy: 2.5183e-04\n",
            "Epoch 24: val_loss did not improve from 0.00113\n",
            "16/16 [==============================] - 4s 236ms/step - loss: 0.0089 - accuracy: 2.5183e-04 - val_loss: 0.0035 - val_accuracy: 0.0010 - lr: 0.0010\n",
            "Epoch 25/100\n",
            "16/16 [==============================] - ETA: 0s - loss: 0.0108 - accuracy: 2.5183e-04\n",
            "Epoch 25: val_loss did not improve from 0.00113\n",
            "16/16 [==============================] - 4s 239ms/step - loss: 0.0108 - accuracy: 2.5183e-04 - val_loss: 0.0738 - val_accuracy: 0.0010 - lr: 0.0010\n",
            "Epoch 26/100\n",
            "16/16 [==============================] - ETA: 0s - loss: 0.0034 - accuracy: 2.5183e-04\n",
            "Epoch 26: val_loss did not improve from 0.00113\n",
            "16/16 [==============================] - 4s 235ms/step - loss: 0.0034 - accuracy: 2.5183e-04 - val_loss: 0.0016 - val_accuracy: 0.0010 - lr: 0.0010\n",
            "Epoch 27/100\n",
            "16/16 [==============================] - ETA: 0s - loss: 0.0051 - accuracy: 2.5183e-04\n",
            "Epoch 27: val_loss did not improve from 0.00113\n",
            "16/16 [==============================] - 4s 238ms/step - loss: 0.0051 - accuracy: 2.5183e-04 - val_loss: 0.0019 - val_accuracy: 0.0010 - lr: 0.0010\n",
            "Epoch 28/100\n",
            "16/16 [==============================] - ETA: 0s - loss: 0.0097 - accuracy: 2.5183e-04\n",
            "Epoch 28: ReduceLROnPlateau reducing learning rate to 0.0005000000237487257.\n",
            "\n",
            "Epoch 28: val_loss did not improve from 0.00113\n",
            "16/16 [==============================] - 4s 234ms/step - loss: 0.0097 - accuracy: 2.5183e-04 - val_loss: 0.0630 - val_accuracy: 0.0010 - lr: 0.0010\n",
            "Epoch 28: early stopping\n",
            "CPU times: user 2min 54s, sys: 12.3 s, total: 3min 7s\n",
            "Wall time: 1min 49s\n"
          ]
        }
      ]
    },
    {
      "cell_type": "markdown",
      "source": [
        "Test Data"
      ],
      "metadata": {
        "id": "w7MrPVltfdCi"
      }
    },
    {
      "cell_type": "code",
      "source": [
        "#for test data\n",
        "test_start='2021-10-20 00:00:00'\n",
        "test_end='2021-10-23 00:00:00'\n",
        "symbol='BTC/USD'\n",
        "api_key='61a8c16b48214b219374ac7cdedd419b'\n",
        "order='asc'\n",
        "interval='5min'\n",
        "test_api_url=f\"https://api.twelvedata.com/time_series?symbol={symbol}&start_date={test_start}&end_date={test_end}&interval={interval}&order={order}&apikey={api_key}\""
      ],
      "metadata": {
        "id": "SQ19aQpKE8JZ"
      },
      "execution_count": 62,
      "outputs": []
    },
    {
      "cell_type": "code",
      "source": [
        "import requests"
      ],
      "metadata": {
        "id": "o011bHi6Gk1h"
      },
      "execution_count": 63,
      "outputs": []
    },
    {
      "cell_type": "code",
      "source": [
        "test_data=requests.get(test_api_url).json()\n",
        "test_data_final=pd.DataFrame(test_data['values'])"
      ],
      "metadata": {
        "id": "pdGs-rqDGAqc"
      },
      "execution_count": 64,
      "outputs": []
    },
    {
      "cell_type": "code",
      "source": [
        "test_data_final.head()"
      ],
      "metadata": {
        "colab": {
          "base_uri": "https://localhost:8080/",
          "height": 206
        },
        "id": "zvKxok_HROFr",
        "outputId": "2d15ad13-c0b2-4db5-e27a-f82b2330d3eb"
      },
      "execution_count": 65,
      "outputs": [
        {
          "output_type": "execute_result",
          "data": {
            "text/html": [
              "\n",
              "  <div id=\"df-30052fce-09cc-4c22-962d-f60e551370da\">\n",
              "    <div class=\"colab-df-container\">\n",
              "      <div>\n",
              "<style scoped>\n",
              "    .dataframe tbody tr th:only-of-type {\n",
              "        vertical-align: middle;\n",
              "    }\n",
              "\n",
              "    .dataframe tbody tr th {\n",
              "        vertical-align: top;\n",
              "    }\n",
              "\n",
              "    .dataframe thead th {\n",
              "        text-align: right;\n",
              "    }\n",
              "</style>\n",
              "<table border=\"1\" class=\"dataframe\">\n",
              "  <thead>\n",
              "    <tr style=\"text-align: right;\">\n",
              "      <th></th>\n",
              "      <th>datetime</th>\n",
              "      <th>open</th>\n",
              "      <th>high</th>\n",
              "      <th>low</th>\n",
              "      <th>close</th>\n",
              "    </tr>\n",
              "  </thead>\n",
              "  <tbody>\n",
              "    <tr>\n",
              "      <th>0</th>\n",
              "      <td>2021-10-20 00:00:00</td>\n",
              "      <td>64268.39844</td>\n",
              "      <td>64342.85938</td>\n",
              "      <td>64238.05078</td>\n",
              "      <td>64250.01172</td>\n",
              "    </tr>\n",
              "    <tr>\n",
              "      <th>1</th>\n",
              "      <td>2021-10-20 00:05:00</td>\n",
              "      <td>64197.19922</td>\n",
              "      <td>64197.19922</td>\n",
              "      <td>64086.75000</td>\n",
              "      <td>64140.62891</td>\n",
              "    </tr>\n",
              "    <tr>\n",
              "      <th>2</th>\n",
              "      <td>2021-10-20 00:10:00</td>\n",
              "      <td>64157.37891</td>\n",
              "      <td>64183.78906</td>\n",
              "      <td>64157.37891</td>\n",
              "      <td>64170.85156</td>\n",
              "    </tr>\n",
              "    <tr>\n",
              "      <th>3</th>\n",
              "      <td>2021-10-20 00:15:00</td>\n",
              "      <td>64179.98828</td>\n",
              "      <td>64218.92969</td>\n",
              "      <td>64105.01172</td>\n",
              "      <td>64125.21875</td>\n",
              "    </tr>\n",
              "    <tr>\n",
              "      <th>4</th>\n",
              "      <td>2021-10-20 00:20:00</td>\n",
              "      <td>64152.80078</td>\n",
              "      <td>64156.87891</td>\n",
              "      <td>64111.67969</td>\n",
              "      <td>64111.67969</td>\n",
              "    </tr>\n",
              "  </tbody>\n",
              "</table>\n",
              "</div>\n",
              "      <button class=\"colab-df-convert\" onclick=\"convertToInteractive('df-30052fce-09cc-4c22-962d-f60e551370da')\"\n",
              "              title=\"Convert this dataframe to an interactive table.\"\n",
              "              style=\"display:none;\">\n",
              "        \n",
              "  <svg xmlns=\"http://www.w3.org/2000/svg\" height=\"24px\"viewBox=\"0 0 24 24\"\n",
              "       width=\"24px\">\n",
              "    <path d=\"M0 0h24v24H0V0z\" fill=\"none\"/>\n",
              "    <path d=\"M18.56 5.44l.94 2.06.94-2.06 2.06-.94-2.06-.94-.94-2.06-.94 2.06-2.06.94zm-11 1L8.5 8.5l.94-2.06 2.06-.94-2.06-.94L8.5 2.5l-.94 2.06-2.06.94zm10 10l.94 2.06.94-2.06 2.06-.94-2.06-.94-.94-2.06-.94 2.06-2.06.94z\"/><path d=\"M17.41 7.96l-1.37-1.37c-.4-.4-.92-.59-1.43-.59-.52 0-1.04.2-1.43.59L10.3 9.45l-7.72 7.72c-.78.78-.78 2.05 0 2.83L4 21.41c.39.39.9.59 1.41.59.51 0 1.02-.2 1.41-.59l7.78-7.78 2.81-2.81c.8-.78.8-2.07 0-2.86zM5.41 20L4 18.59l7.72-7.72 1.47 1.35L5.41 20z\"/>\n",
              "  </svg>\n",
              "      </button>\n",
              "      \n",
              "  <style>\n",
              "    .colab-df-container {\n",
              "      display:flex;\n",
              "      flex-wrap:wrap;\n",
              "      gap: 12px;\n",
              "    }\n",
              "\n",
              "    .colab-df-convert {\n",
              "      background-color: #E8F0FE;\n",
              "      border: none;\n",
              "      border-radius: 50%;\n",
              "      cursor: pointer;\n",
              "      display: none;\n",
              "      fill: #1967D2;\n",
              "      height: 32px;\n",
              "      padding: 0 0 0 0;\n",
              "      width: 32px;\n",
              "    }\n",
              "\n",
              "    .colab-df-convert:hover {\n",
              "      background-color: #E2EBFA;\n",
              "      box-shadow: 0px 1px 2px rgba(60, 64, 67, 0.3), 0px 1px 3px 1px rgba(60, 64, 67, 0.15);\n",
              "      fill: #174EA6;\n",
              "    }\n",
              "\n",
              "    [theme=dark] .colab-df-convert {\n",
              "      background-color: #3B4455;\n",
              "      fill: #D2E3FC;\n",
              "    }\n",
              "\n",
              "    [theme=dark] .colab-df-convert:hover {\n",
              "      background-color: #434B5C;\n",
              "      box-shadow: 0px 1px 3px 1px rgba(0, 0, 0, 0.15);\n",
              "      filter: drop-shadow(0px 1px 2px rgba(0, 0, 0, 0.3));\n",
              "      fill: #FFFFFF;\n",
              "    }\n",
              "  </style>\n",
              "\n",
              "      <script>\n",
              "        const buttonEl =\n",
              "          document.querySelector('#df-30052fce-09cc-4c22-962d-f60e551370da button.colab-df-convert');\n",
              "        buttonEl.style.display =\n",
              "          google.colab.kernel.accessAllowed ? 'block' : 'none';\n",
              "\n",
              "        async function convertToInteractive(key) {\n",
              "          const element = document.querySelector('#df-30052fce-09cc-4c22-962d-f60e551370da');\n",
              "          const dataTable =\n",
              "            await google.colab.kernel.invokeFunction('convertToInteractive',\n",
              "                                                     [key], {});\n",
              "          if (!dataTable) return;\n",
              "\n",
              "          const docLinkHtml = 'Like what you see? Visit the ' +\n",
              "            '<a target=\"_blank\" href=https://colab.research.google.com/notebooks/data_table.ipynb>data table notebook</a>'\n",
              "            + ' to learn more about interactive tables.';\n",
              "          element.innerHTML = '';\n",
              "          dataTable['output_type'] = 'display_data';\n",
              "          await google.colab.output.renderOutput(dataTable, element);\n",
              "          const docLink = document.createElement('div');\n",
              "          docLink.innerHTML = docLinkHtml;\n",
              "          element.appendChild(docLink);\n",
              "        }\n",
              "      </script>\n",
              "    </div>\n",
              "  </div>\n",
              "  "
            ],
            "text/plain": [
              "              datetime         open         high          low        close\n",
              "0  2021-10-20 00:00:00  64268.39844  64342.85938  64238.05078  64250.01172\n",
              "1  2021-10-20 00:05:00  64197.19922  64197.19922  64086.75000  64140.62891\n",
              "2  2021-10-20 00:10:00  64157.37891  64183.78906  64157.37891  64170.85156\n",
              "3  2021-10-20 00:15:00  64179.98828  64218.92969  64105.01172  64125.21875\n",
              "4  2021-10-20 00:20:00  64152.80078  64156.87891  64111.67969  64111.67969"
            ]
          },
          "metadata": {},
          "execution_count": 65
        }
      ]
    },
    {
      "cell_type": "code",
      "source": [
        "bitcoin_prices=pd.to_numeric(test_data_final['close'],errors='coerce').values       # actual bitcoin prices"
      ],
      "metadata": {
        "id": "3rMBRUisRQqV"
      },
      "execution_count": 66,
      "outputs": []
    },
    {
      "cell_type": "code",
      "source": [
        "len(bitcoin_prices)"
      ],
      "metadata": {
        "colab": {
          "base_uri": "https://localhost:8080/"
        },
        "id": "SLTpeRAKia02",
        "outputId": "dc39e6ef-c4e7-40dd-83a2-da9c4a467b59"
      },
      "execution_count": 67,
      "outputs": [
        {
          "output_type": "execute_result",
          "data": {
            "text/plain": [
              "855"
            ]
          },
          "metadata": {},
          "execution_count": 67
        }
      ]
    },
    {
      "cell_type": "code",
      "source": [
        "#prepared test data after transformations\n",
        "test_inputs=test_data_final['close'].values\n",
        "test_inputs= test_inputs.reshape(-1,1)\n",
        "model_inputs=scaler.fit_transform(test_inputs)"
      ],
      "metadata": {
        "id": "TOHhcrG3RirM"
      },
      "execution_count": 68,
      "outputs": []
    },
    {
      "cell_type": "code",
      "source": [
        "# we are predicting data and in input we are takeing 2 hrs of data\n",
        "x_test=[]\n",
        "\n",
        "for x in range(time_intervals_to_train,len(model_inputs)):\n",
        "  x_test.append(model_inputs[x-time_intervals_to_train:x,0])\n",
        "\n",
        "x_test=np.array(x_test)"
      ],
      "metadata": {
        "id": "_xcUczrURqy2"
      },
      "execution_count": 69,
      "outputs": []
    },
    {
      "cell_type": "code",
      "source": [
        "x_test=np.reshape(x_test,(x_test.shape[0],x_test.shape[1],1)) #changed into 3 dim bcs LSTM works on 3 dim modal\n",
        "x_test.shape"
      ],
      "metadata": {
        "colab": {
          "base_uri": "https://localhost:8080/"
        },
        "id": "eZkO912XR7tv",
        "outputId": "35e14897-c0e3-4da2-bf3c-7d11bb18b8c3"
      },
      "execution_count": 70,
      "outputs": [
        {
          "output_type": "execute_result",
          "data": {
            "text/plain": [
              "(831, 24, 1)"
            ]
          },
          "metadata": {},
          "execution_count": 70
        }
      ]
    },
    {
      "cell_type": "code",
      "source": [
        "prediction=model.predict(x_test)  # predicted test_data\n",
        "prediction=scaler.inverse_transform(prediction)  # again we have inverse transformed prediction \n",
        "prediction.shape"
      ],
      "metadata": {
        "colab": {
          "base_uri": "https://localhost:8080/"
        },
        "id": "Em9gMZxJSM-h",
        "outputId": "117f45e8-d9d6-4a6c-d5c9-c7d9d0d896ef"
      },
      "execution_count": 71,
      "outputs": [
        {
          "output_type": "execute_result",
          "data": {
            "text/plain": [
              "(831, 1)"
            ]
          },
          "metadata": {},
          "execution_count": 71
        }
      ]
    },
    {
      "cell_type": "code",
      "source": [
        "# visualised predicted and actual prices of Bitcoin\n",
        "plt.figure(figsize=(12,8))\n",
        "plt.plot(bitcoin_prices,label='Bitcoin Prices')\n",
        "plt.plot(prediction,label='Predicted Price')\n",
        "plt.title('Predicting Bitcoin Price')\n",
        "plt.xlabel('5min Time interval')\n",
        "plt.ylabel('Price')\n",
        "plt.legend()\n",
        "plt.show()"
      ],
      "metadata": {
        "colab": {
          "base_uri": "https://localhost:8080/",
          "height": 513
        },
        "id": "30LxL_nfSRwU",
        "outputId": "81aa08bb-2886-4758-c964-063ba02f8bf7"
      },
      "execution_count": 72,
      "outputs": [
        {
          "output_type": "display_data",
          "data": {
            "image/png": "[encoded data removed]",
            "text/plain": [
              "<Figure size 864x576 with 1 Axes>"
            ]
          },
          "metadata": {
            "needs_background": "light"
          }
        }
      ]
    },
    {
      "cell_type": "code",
      "source": [
        "# made a single dataferame for Actual and Predicted Prices of Bitcoin\n",
        "bitcoin=pd.DataFrame(bitcoin_prices[:len(prediction)],index=test_data_final['datetime'][:len(prediction)])\n",
        "pred=pd.DataFrame(prediction,index=test_data_final['datetime'][:len(prediction)])\n",
        "q= pd.concat([bitcoin,pred],axis=1)\n",
        "q.columns=['Actual Prices','Predicted Prices']"
      ],
      "metadata": {
        "id": "m9D9QebjfVlJ"
      },
      "execution_count": 73,
      "outputs": []
    },
    {
      "cell_type": "code",
      "source": [
        "q.head()  #first five rows of q"
      ],
      "metadata": {
        "colab": {
          "base_uri": "https://localhost:8080/",
          "height": 238
        },
        "id": "1yvrz81ijMWT",
        "outputId": "6fc0ff43-bafd-4307-f60b-3e706a3d00f0"
      },
      "execution_count": 77,
      "outputs": [
        {
          "output_type": "execute_result",
          "data": {
            "text/html": [
              "\n",
              "  <div id=\"df-eb51e707-9fa2-499b-9cd3-0673aae4d596\">\n",
              "    <div class=\"colab-df-container\">\n",
              "      <div>\n",
              "<style scoped>\n",
              "    .dataframe tbody tr th:only-of-type {\n",
              "        vertical-align: middle;\n",
              "    }\n",
              "\n",
              "    .dataframe tbody tr th {\n",
              "        vertical-align: top;\n",
              "    }\n",
              "\n",
              "    .dataframe thead th {\n",
              "        text-align: right;\n",
              "    }\n",
              "</style>\n",
              "<table border=\"1\" class=\"dataframe\">\n",
              "  <thead>\n",
              "    <tr style=\"text-align: right;\">\n",
              "      <th></th>\n",
              "      <th>Actual Prices</th>\n",
              "      <th>Predicted Prices</th>\n",
              "    </tr>\n",
              "    <tr>\n",
              "      <th>datetime</th>\n",
              "      <th></th>\n",
              "      <th></th>\n",
              "    </tr>\n",
              "  </thead>\n",
              "  <tbody>\n",
              "    <tr>\n",
              "      <th>2021-10-20 00:00:00</th>\n",
              "      <td>64250.01172</td>\n",
              "      <td>63530.160156</td>\n",
              "    </tr>\n",
              "    <tr>\n",
              "      <th>2021-10-20 00:05:00</th>\n",
              "      <td>64140.62891</td>\n",
              "      <td>63526.558594</td>\n",
              "    </tr>\n",
              "    <tr>\n",
              "      <th>2021-10-20 00:10:00</th>\n",
              "      <td>64170.85156</td>\n",
              "      <td>63523.085938</td>\n",
              "    </tr>\n",
              "    <tr>\n",
              "      <th>2021-10-20 00:15:00</th>\n",
              "      <td>64125.21875</td>\n",
              "      <td>63519.003906</td>\n",
              "    </tr>\n",
              "    <tr>\n",
              "      <th>2021-10-20 00:20:00</th>\n",
              "      <td>64111.67969</td>\n",
              "      <td>63514.750000</td>\n",
              "    </tr>\n",
              "  </tbody>\n",
              "</table>\n",
              "</div>\n",
              "      <button class=\"colab-df-convert\" onclick=\"convertToInteractive('df-eb51e707-9fa2-499b-9cd3-0673aae4d596')\"\n",
              "              title=\"Convert this dataframe to an interactive table.\"\n",
              "              style=\"display:none;\">\n",
              "        \n",
              "  <svg xmlns=\"http://www.w3.org/2000/svg\" height=\"24px\"viewBox=\"0 0 24 24\"\n",
              "       width=\"24px\">\n",
              "    <path d=\"M0 0h24v24H0V0z\" fill=\"none\"/>\n",
              "    <path d=\"M18.56 5.44l.94 2.06.94-2.06 2.06-.94-2.06-.94-.94-2.06-.94 2.06-2.06.94zm-11 1L8.5 8.5l.94-2.06 2.06-.94-2.06-.94L8.5 2.5l-.94 2.06-2.06.94zm10 10l.94 2.06.94-2.06 2.06-.94-2.06-.94-.94-2.06-.94 2.06-2.06.94z\"/><path d=\"M17.41 7.96l-1.37-1.37c-.4-.4-.92-.59-1.43-.59-.52 0-1.04.2-1.43.59L10.3 9.45l-7.72 7.72c-.78.78-.78 2.05 0 2.83L4 21.41c.39.39.9.59 1.41.59.51 0 1.02-.2 1.41-.59l7.78-7.78 2.81-2.81c.8-.78.8-2.07 0-2.86zM5.41 20L4 18.59l7.72-7.72 1.47 1.35L5.41 20z\"/>\n",
              "  </svg>\n",
              "      </button>\n",
              "      \n",
              "  <style>\n",
              "    .colab-df-container {\n",
              "      display:flex;\n",
              "      flex-wrap:wrap;\n",
              "      gap: 12px;\n",
              "    }\n",
              "\n",
              "    .colab-df-convert {\n",
              "      background-color: #E8F0FE;\n",
              "      border: none;\n",
              "      border-radius: 50%;\n",
              "      cursor: pointer;\n",
              "      display: none;\n",
              "      fill: #1967D2;\n",
              "      height: 32px;\n",
              "      padding: 0 0 0 0;\n",
              "      width: 32px;\n",
              "    }\n",
              "\n",
              "    .colab-df-convert:hover {\n",
              "      background-color: #E2EBFA;\n",
              "      box-shadow: 0px 1px 2px rgba(60, 64, 67, 0.3), 0px 1px 3px 1px rgba(60, 64, 67, 0.15);\n",
              "      fill: #174EA6;\n",
              "    }\n",
              "\n",
              "    [theme=dark] .colab-df-convert {\n",
              "      background-color: #3B4455;\n",
              "      fill: #D2E3FC;\n",
              "    }\n",
              "\n",
              "    [theme=dark] .colab-df-convert:hover {\n",
              "      background-color: #434B5C;\n",
              "      box-shadow: 0px 1px 3px 1px rgba(0, 0, 0, 0.15);\n",
              "      filter: drop-shadow(0px 1px 2px rgba(0, 0, 0, 0.3));\n",
              "      fill: #FFFFFF;\n",
              "    }\n",
              "  </style>\n",
              "\n",
              "      <script>\n",
              "        const buttonEl =\n",
              "          document.querySelector('#df-eb51e707-9fa2-499b-9cd3-0673aae4d596 button.colab-df-convert');\n",
              "        buttonEl.style.display =\n",
              "          google.colab.kernel.accessAllowed ? 'block' : 'none';\n",
              "\n",
              "        async function convertToInteractive(key) {\n",
              "          const element = document.querySelector('#df-eb51e707-9fa2-499b-9cd3-0673aae4d596');\n",
              "          const dataTable =\n",
              "            await google.colab.kernel.invokeFunction('convertToInteractive',\n",
              "                                                     [key], {});\n",
              "          if (!dataTable) return;\n",
              "\n",
              "          const docLinkHtml = 'Like what you see? Visit the ' +\n",
              "            '<a target=\"_blank\" href=https://colab.research.google.com/notebooks/data_table.ipynb>data table notebook</a>'\n",
              "            + ' to learn more about interactive tables.';\n",
              "          element.innerHTML = '';\n",
              "          dataTable['output_type'] = 'display_data';\n",
              "          await google.colab.output.renderOutput(dataTable, element);\n",
              "          const docLink = document.createElement('div');\n",
              "          docLink.innerHTML = docLinkHtml;\n",
              "          element.appendChild(docLink);\n",
              "        }\n",
              "      </script>\n",
              "    </div>\n",
              "  </div>\n",
              "  "
            ],
            "text/plain": [
              "                     Actual Prices  Predicted Prices\n",
              "datetime                                            \n",
              "2021-10-20 00:00:00    64250.01172      63530.160156\n",
              "2021-10-20 00:05:00    64140.62891      63526.558594\n",
              "2021-10-20 00:10:00    64170.85156      63523.085938\n",
              "2021-10-20 00:15:00    64125.21875      63519.003906\n",
              "2021-10-20 00:20:00    64111.67969      63514.750000"
            ]
          },
          "metadata": {},
          "execution_count": 77
        }
      ]
    },
    {
      "cell_type": "code",
      "source": [
        "#Forecast bias\n",
        "forecast_errors = [q['Actual Prices'][i]- q['Predicted Prices'][i] for i in range(len(q))]      # difference of actual and predicted prices\n",
        "bias = sum(forecast_errors) * 1.0/len(q)       # bias\n",
        "print('Bias: %f' % bias)\n",
        "print('Mean absolute error:', mean_absolute_error(q['Actual Prices'].values, q['Predicted Prices'].values))    # mean absolute error of Bitcoin prices\n",
        "print('Mean squared error:', mean_squared_error(q['Actual Prices'].values, q['Predicted Prices'].values))      # mean squared error of Bitcoin prices\n",
        "print('Root mean squared error:', math.sqrt(mean_squared_error(q['Actual Prices'].values, q['Predicted Prices'].values)))  # root mean error of Bitcoin prices"
      ],
      "metadata": {
        "colab": {
          "base_uri": "https://localhost:8080/"
        },
        "id": "vxvLfQqpSyS5",
        "outputId": "61cd4caf-7d51-4cdb-9195-feae03fe3e12"
      },
      "execution_count": 75,
      "outputs": [
        {
          "output_type": "stream",
          "name": "stdout",
          "text": [
            "Bias: 556.858839\n",
            "Mean absolute error: 766.8798793667269\n",
            "Mean squared error: 1029957.7663224374\n",
            "Root mean squared error: 1014.8683492564134\n"
          ]
        }
      ]
    },
    {
      "cell_type": "markdown",
      "source": [
        "We can see that we have find these errors and these are not too haivy errors. so we can say that our model is performing quit good."
      ],
      "metadata": {
        "id": "uBM_yKl9kvt1"
      }
    },
    {
      "cell_type": "code",
      "source": [
        ""
      ],
      "metadata": {
        "id": "TDosk6gysVzS"
      },
      "execution_count": 75,
      "outputs": []
    }
  ]
}